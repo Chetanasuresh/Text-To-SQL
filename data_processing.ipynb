{
  "cells": [
    {
      "cell_type": "code",
      "execution_count": null,
      "metadata": {
        "id": "zevobFlKFXsw"
      },
      "outputs": [],
      "source": [
        "import json"
      ]
    },
    {
      "cell_type": "code",
      "execution_count": null,
      "metadata": {
        "colab": {
          "base_uri": "https://localhost:8080/"
        },
        "id": "kjrPhDsUFZ11",
        "outputId": "26cf5884-ed0e-4adc-e789-1454e923cd34"
      },
      "outputs": [
        {
          "data": {
            "text/plain": [
              "[{'question': 'How many heads of the departments are older than 56 ?|CREATE TABLE head (age INTEGER)',\n",
              "  'answer': 'SELECT COUNT(*) FROM head WHERE age > 56'},\n",
              " {'question': 'List the name, born state and age of the heads of departments ordered by age.|CREATE TABLE head (name VARCHAR, born_state VARCHAR, age VARCHAR)',\n",
              "  'answer': 'SELECT name, born_state, age FROM head ORDER BY age'},\n",
              " {'question': 'List the creation year, name and budget of each department.|CREATE TABLE department (creation VARCHAR, name VARCHAR, budget_in_billions VARCHAR)',\n",
              "  'answer': 'SELECT creation, name, budget_in_billions FROM department'},\n",
              " {'question': 'What are the maximum and minimum budget of the departments?|CREATE TABLE department (budget_in_billions INTEGER)',\n",
              "  'answer': 'SELECT MAX(budget_in_billions), MIN(budget_in_billions) FROM department'},\n",
              " {'question': 'What is the average number of employees of the departments whose rank is between 10 and 15?|CREATE TABLE department (num_employees INTEGER, ranking INTEGER)',\n",
              "  'answer': 'SELECT AVG(num_employees) FROM department WHERE ranking BETWEEN 10 AND 15'}]"
            ]
          },
          "execution_count": 3,
          "metadata": {},
          "output_type": "execute_result"
        }
      ],
      "source": [
        "with open('/content/output1.json', 'r') as file:\n",
        "  data = json.load(file)\n",
        "\n",
        "data[:5]"
      ]
    },
    {
      "cell_type": "code",
      "execution_count": null,
      "metadata": {
        "colab": {
          "base_uri": "https://localhost:8080/"
        },
        "id": "bCXlgPMbGmcc",
        "outputId": "300fd771-3390-4b9a-c5db-3e38cf4f6ef0"
      },
      "outputs": [
        {
          "data": {
            "text/plain": [
              "[{'instruction': 'In the CREATE TABLE head (age INTEGER), How many heads of the departments are older than 56 ?',\n",
              "  'output': 'SELECT COUNT(*) FROM head WHERE age > 56'},\n",
              " {'instruction': 'In the CREATE TABLE head (name VARCHAR, born_state VARCHAR, age VARCHAR), List the name, born state and age of the heads of departments ordered by age.',\n",
              "  'output': 'SELECT name, born_state, age FROM head ORDER BY age'},\n",
              " {'instruction': 'In the CREATE TABLE department (creation VARCHAR, name VARCHAR, budget_in_billions VARCHAR), List the creation year, name and budget of each department.',\n",
              "  'output': 'SELECT creation, name, budget_in_billions FROM department'},\n",
              " {'instruction': 'In the CREATE TABLE department (budget_in_billions INTEGER), What are the maximum and minimum budget of the departments?',\n",
              "  'output': 'SELECT MAX(budget_in_billions), MIN(budget_in_billions) FROM department'},\n",
              " {'instruction': 'In the CREATE TABLE department (num_employees INTEGER, ranking INTEGER), What is the average number of employees of the departments whose rank is between 10 and 15?',\n",
              "  'output': 'SELECT AVG(num_employees) FROM department WHERE ranking BETWEEN 10 AND 15'}]"
            ]
          },
          "execution_count": 4,
          "metadata": {},
          "output_type": "execute_result"
        }
      ],
      "source": [
        "formatted_data = []\n",
        "\n",
        "for item in data:\n",
        "  question_parts = item[\"question\"].split('|')\n",
        "  question_text = question_parts[0]\n",
        "  table_schema = question_parts[1]\n",
        "\n",
        "  formatted_instance = {\n",
        "        \"instruction\": f\"In the {table_schema}, {question_text}\",\n",
        "        \"output\": item[\"answer\"]\n",
        "    }\n",
        "\n",
        "  formatted_data.append(formatted_instance)\n",
        "\n",
        "formatted_data[:5]"
      ]
    },
    {
      "cell_type": "code",
      "execution_count": null,
      "metadata": {
        "colab": {
          "base_uri": "https://localhost:8080/"
        },
        "id": "lP60F7RhHKy8",
        "outputId": "a8d2f863-8394-4969-9303-25601fc404c2"
      },
      "outputs": [
        {
          "name": "stdout",
          "output_type": "stream",
          "text": [
            "conversion Complete\n"
          ]
        }
      ],
      "source": [
        "with open('/content/formatted_output.json', 'w') as output_file:\n",
        "  json.dump(formatted_data, output_file, indent = 2)\n",
        "\n",
        "print(\"conversion Complete\")"
      ]
    },
    {
      "cell_type": "code",
      "execution_count": null,
      "metadata": {
        "colab": {
          "base_uri": "https://localhost:8080/"
        },
        "id": "lAw4sTMoIMOG",
        "outputId": "bcad3d8d-3efe-4857-ba9b-449e3b1c4d1a"
      },
      "outputs": [
        {
          "data": {
            "text/plain": [
              "[{'instruction': 'In the CREATE TABLE head (age INTEGER), How many heads of the departments are older than 56 ?',\n",
              "  'output': 'SELECT COUNT(*) FROM head WHERE age > 56'},\n",
              " {'instruction': 'In the CREATE TABLE head (name VARCHAR, born_state VARCHAR, age VARCHAR), List the name, born state and age of the heads of departments ordered by age.',\n",
              "  'output': 'SELECT name, born_state, age FROM head ORDER BY age'},\n",
              " {'instruction': 'In the CREATE TABLE department (creation VARCHAR, name VARCHAR, budget_in_billions VARCHAR), List the creation year, name and budget of each department.',\n",
              "  'output': 'SELECT creation, name, budget_in_billions FROM department'},\n",
              " {'instruction': 'In the CREATE TABLE department (budget_in_billions INTEGER), What are the maximum and minimum budget of the departments?',\n",
              "  'output': 'SELECT MAX(budget_in_billions), MIN(budget_in_billions) FROM department'},\n",
              " {'instruction': 'In the CREATE TABLE department (num_employees INTEGER, ranking INTEGER), What is the average number of employees of the departments whose rank is between 10 and 15?',\n",
              "  'output': 'SELECT AVG(num_employees) FROM department WHERE ranking BETWEEN 10 AND 15'},\n",
              " {'instruction': 'In the CREATE TABLE head (name VARCHAR, born_state VARCHAR), What are the names of the heads who are born outside the California state?',\n",
              "  'output': \"SELECT name FROM head WHERE born_state <> 'California'\"},\n",
              " {'instruction': \"In the CREATE TABLE department (creation VARCHAR, department_id VARCHAR); CREATE TABLE management (department_id VARCHAR, head_id VARCHAR); CREATE TABLE head (head_id VARCHAR, born_state VARCHAR), What are the distinct creation years of the departments managed by a secretary born in state 'Alabama'?\",\n",
              "  'output': \"SELECT DISTINCT T1.creation FROM department AS T1 JOIN management AS T2 ON T1.department_id = T2.department_id JOIN head AS T3 ON T2.head_id = T3.head_id WHERE T3.born_state = 'Alabama'\"},\n",
              " {'instruction': 'In the CREATE TABLE head (born_state VARCHAR), What are the names of the states where at least 3 heads were born?',\n",
              "  'output': 'SELECT born_state FROM head GROUP BY born_state HAVING COUNT(*) >= 3'},\n",
              " {'instruction': 'In the CREATE TABLE department (creation VARCHAR), In which year were most departments established?',\n",
              "  'output': 'SELECT creation FROM department GROUP BY creation ORDER BY COUNT(*) DESC LIMIT 1'},\n",
              " {'instruction': \"In the CREATE TABLE management (department_id VARCHAR, temporary_acting VARCHAR); CREATE TABLE department (name VARCHAR, num_employees VARCHAR, department_id VARCHAR), Show the name and number of employees for the departments managed by heads whose temporary acting value is 'Yes'?\",\n",
              "  'output': \"SELECT T1.name, T1.num_employees FROM department AS T1 JOIN management AS T2 ON T1.department_id = T2.department_id WHERE T2.temporary_acting = 'Yes'\"}]"
            ]
          },
          "execution_count": 6,
          "metadata": {},
          "output_type": "execute_result"
        }
      ],
      "source": [
        "with open('/content/formatted_output.json', 'r') as file:\n",
        "  data = json.load(file)\n",
        "\n",
        "data[:10]"
      ]
    },
    {
      "cell_type": "code",
      "execution_count": null,
      "metadata": {
        "colab": {
          "base_uri": "https://localhost:8080/"
        },
        "id": "bwagE069KCWJ",
        "outputId": "45c70db9-a542-4f23-d5ec-b3a8d5493e9a"
      },
      "outputs": [
        {
          "name": "stdout",
          "output_type": "stream",
          "text": [
            "Conversion complete. Modified data saved to your_output_file.json.\n"
          ]
        }
      ],
      "source": [
        "import re\n",
        "import json\n",
        "\n",
        "data_type_mapping = {\n",
        "    \"INTEGER\": \"integer\",\n",
        "    \"BIGINT\": \"bigint\",\n",
        "    \"SMALLINT\": \"smallint\",\n",
        "    \"FLOAT\": \"float\",\n",
        "    \"DOUBLE\": \"double precision\",\n",
        "    \"DECIMAL\": \"decimal\",\n",
        "    \"NUMERIC\": \"numeric\",\n",
        "    \"BOOLEAN\": \"boolean\",\n",
        "    \"CHAR\": \"character\",\n",
        "    \"VARCHAR\": \"text\",\n",
        "    \"TEXT\": \"text\",\n",
        "    \"DATE\": \"date\",\n",
        "    \"TIME\": \"time\",\n",
        "    \"TIMESTAMP\": \"timestamp\",\n",
        "}\n",
        "\n",
        "def convert_instruction(instruction):\n",
        "   \n",
        "    schema_match = re.search(r'\\((.*?)\\)', instruction)\n",
        "    if schema_match:\n",
        "        schema = schema_match.group(1)\n",
        "        \n",
        "        for data_type, readable_type in data_type_mapping.items():\n",
        "            schema = schema.replace(data_type, readable_type)\n",
        "        \n",
        "        schema = schema.strip()\n",
        "        \n",
        "        instruction = instruction.replace(f\"({schema})\", f\"with columns {schema}\")\n",
        "    return instruction\n",
        "\n",
        "\n",
        "with open('/content/formatted_output.json', 'r') as file:\n",
        "    data = json.load(file)\n",
        "\n",
        "for entry in data:\n",
        "    entry[\"instruction\"] = convert_instruction(entry[\"instruction\"])\n",
        "\n",
        "with open('/content/formatted_output_new.json', 'w') as file:\n",
        "    json.dump(data, file, indent=2)\n",
        "\n",
        "print(\"Conversion complete. Modified data saved to your_output_file.json.\")\n"
      ]
    },
    {
      "cell_type": "code",
      "execution_count": null,
      "metadata": {
        "colab": {
          "base_uri": "https://localhost:8080/"
        },
        "id": "wMgU-CyCKsEd",
        "outputId": "b034a950-d1f0-4745-a346-c1fec4148415"
      },
      "outputs": [
        {
          "data": {
            "text/plain": [
              "[{'instruction': 'In the CREATE TABLE head (age INTEGER), How many heads of the departments are older than 56 ?',\n",
              "  'output': 'SELECT COUNT(*) FROM head WHERE age > 56'},\n",
              " {'instruction': 'In the CREATE TABLE head (name VARCHAR, born_state VARCHAR, age VARCHAR), List the name, born state and age of the heads of departments ordered by age.',\n",
              "  'output': 'SELECT name, born_state, age FROM head ORDER BY age'},\n",
              " {'instruction': 'In the CREATE TABLE department (creation VARCHAR, name VARCHAR, budget_in_billions VARCHAR), List the creation year, name and budget of each department.',\n",
              "  'output': 'SELECT creation, name, budget_in_billions FROM department'},\n",
              " {'instruction': 'In the CREATE TABLE department (budget_in_billions INTEGER), What are the maximum and minimum budget of the departments?',\n",
              "  'output': 'SELECT MAX(budget_in_billions), MIN(budget_in_billions) FROM department'},\n",
              " {'instruction': 'In the CREATE TABLE department (num_employees INTEGER, ranking INTEGER), What is the average number of employees of the departments whose rank is between 10 and 15?',\n",
              "  'output': 'SELECT AVG(num_employees) FROM department WHERE ranking BETWEEN 10 AND 15'}]"
            ]
          },
          "execution_count": 9,
          "metadata": {},
          "output_type": "execute_result"
        }
      ],
      "source": [
        "with open('/content/formatted_output_new.json', 'r') as file:\n",
        "  json.load(file)\n",
        "\n",
        "data[:5]"
      ]
    },
    {
      "cell_type": "code",
      "execution_count": null,
      "metadata": {
        "colab": {
          "base_uri": "https://localhost:8080/"
        },
        "id": "HICvXAhMM7rA",
        "outputId": "ea5a8f5e-a691-451f-dbf7-1f61d90f91b1"
      },
      "outputs": [
        {
          "name": "stdout",
          "output_type": "stream",
          "text": [
            "Modification complete. Modified data saved to your_output_file.json.\n"
          ]
        }
      ],
      "source": [
        "import json\n",
        "import re\n",
        "\n",
        "with open('/content/formatted_output_new.json', 'r') as file:\n",
        "    data = json.load(file)\n",
        "\n",
        "def modify_instruction(instruction):\n",
        "\n",
        "    match = re.match(r'In the CREATE TABLE (\\w+) \\((.*?)\\), (.*)', instruction)\n",
        "    if match:\n",
        "        table_name = match.group(1)\n",
        "        schema = match.group(2)\n",
        "        query = match.group(3)\n",
        "\n",
        "        modified_instruction = f\"In the table named {table_name} with columns ({schema}), {query}\"\n",
        "        return modified_instruction\n",
        "    else:\n",
        "        return instruction  \n",
        "\n",
        "for entry in data:\n",
        "    entry[\"instruction\"] = modify_instruction(entry[\"instruction\"])\n",
        "\n",
        "with open('/content/formatted_output_new_final.json', 'w') as file:\n",
        "    json.dump(data, file, indent=2)\n",
        "\n",
        "print(\"Modification complete. Modified data saved to your_output_file.json.\")\n"
      ]
    },
    {
      "cell_type": "code",
      "execution_count": null,
      "metadata": {
        "colab": {
          "base_uri": "https://localhost:8080/"
        },
        "id": "NdWWDtRtNtLJ",
        "outputId": "994c785c-9d88-4ccc-88a0-8dcae244bb56"
      },
      "outputs": [
        {
          "data": {
            "text/plain": [
              "[{'instruction': 'In the table named head with columns (age INTEGER), How many heads of the departments are older than 56 ?',\n",
              "  'output': 'SELECT COUNT(*) FROM head WHERE age > 56'},\n",
              " {'instruction': 'In the table named head with columns (name VARCHAR, born_state VARCHAR, age VARCHAR), List the name, born state and age of the heads of departments ordered by age.',\n",
              "  'output': 'SELECT name, born_state, age FROM head ORDER BY age'},\n",
              " {'instruction': 'In the table named department with columns (creation VARCHAR, name VARCHAR, budget_in_billions VARCHAR), List the creation year, name and budget of each department.',\n",
              "  'output': 'SELECT creation, name, budget_in_billions FROM department'},\n",
              " {'instruction': 'In the table named department with columns (budget_in_billions INTEGER), What are the maximum and minimum budget of the departments?',\n",
              "  'output': 'SELECT MAX(budget_in_billions), MIN(budget_in_billions) FROM department'},\n",
              " {'instruction': 'In the table named department with columns (num_employees INTEGER, ranking INTEGER), What is the average number of employees of the departments whose rank is between 10 and 15?',\n",
              "  'output': 'SELECT AVG(num_employees) FROM department WHERE ranking BETWEEN 10 AND 15'}]"
            ]
          },
          "execution_count": 11,
          "metadata": {},
          "output_type": "execute_result"
        }
      ],
      "source": [
        "with open('/content/formatted_output_new_final.json', 'r') as file:\n",
        "  data = json.load(file)\n",
        "\n",
        "data[:5]"
      ]
    }
  ],
  "metadata": {
    "colab": {
      "provenance": []
    },
    "kernelspec": {
      "display_name": "Python 3",
      "name": "python3"
    }
  },
  "nbformat": 4,
  "nbformat_minor": 0
}
